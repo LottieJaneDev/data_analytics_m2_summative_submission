{
  "nbformat": 4,
  "nbformat_minor": 0,
  "metadata": {
    "colab": {
      "provenance": []
    },
    "kernelspec": {
      "name": "python3",
      "display_name": "Python 3"
    }
  },
  "cells": [
    {
      "cell_type": "markdown",
      "metadata": {
        "id": "sOZBO7TPNf37"
      },
      "source": [
        "### Hypothesis Testing in Python\n",
        "\n",
        "In this example, we test our sample data on the average height of people in the UK.\n",
        "\n",
        "You import the data set, perform basic EDA and conduct a hypothesis test of a mean to investigate whether the true population estimate is significantly different from 165cm and 166cm.  "
      ]
    },
    {
      "cell_type": "code",
      "metadata": {
        "id": "jyktzrfUJCZh"
      },
      "source": [
        "# upload the csv file and create a dataframe\n",
        "\n",
        "import pandas as pd\n",
        "import numpy as np\n",
        "import scipy\n",
        "import matplotlib.pyplot as plt \n",
        "import scipy.stats as st\n",
        "import seaborn as sns\n",
        "\n",
        "df = pd.read_csv('height.csv')"
      ],
      "execution_count": null,
      "outputs": []
    },
    {
      "cell_type": "code",
      "metadata": {
        "colab": {
          "base_uri": "https://localhost:8080/",
          "height": 195
        },
        "id": "sBW8Xk6GJbRY",
        "outputId": "6685bee7-4cac-4afd-9aed-b158a00cf47d"
      },
      "source": [
        "df.head()"
      ],
      "execution_count": null,
      "outputs": [
        {
          "output_type": "execute_result",
          "data": {
            "text/html": [
              "<div>\n",
              "<style scoped>\n",
              "    .dataframe tbody tr th:only-of-type {\n",
              "        vertical-align: middle;\n",
              "    }\n",
              "\n",
              "    .dataframe tbody tr th {\n",
              "        vertical-align: top;\n",
              "    }\n",
              "\n",
              "    .dataframe thead th {\n",
              "        text-align: right;\n",
              "    }\n",
              "</style>\n",
              "<table border=\"1\" class=\"dataframe\">\n",
              "  <thead>\n",
              "    <tr style=\"text-align: right;\">\n",
              "      <th></th>\n",
              "      <th>ID</th>\n",
              "      <th>Height</th>\n",
              "    </tr>\n",
              "  </thead>\n",
              "  <tbody>\n",
              "    <tr>\n",
              "      <th>0</th>\n",
              "      <td>1000</td>\n",
              "      <td>187.849361</td>\n",
              "    </tr>\n",
              "    <tr>\n",
              "      <th>1</th>\n",
              "      <td>1004</td>\n",
              "      <td>171.398172</td>\n",
              "    </tr>\n",
              "    <tr>\n",
              "      <th>2</th>\n",
              "      <td>1008</td>\n",
              "      <td>172.183314</td>\n",
              "    </tr>\n",
              "    <tr>\n",
              "      <th>3</th>\n",
              "      <td>1011</td>\n",
              "      <td>142.268503</td>\n",
              "    </tr>\n",
              "    <tr>\n",
              "      <th>4</th>\n",
              "      <td>1016</td>\n",
              "      <td>174.386182</td>\n",
              "    </tr>\n",
              "  </tbody>\n",
              "</table>\n",
              "</div>"
            ],
            "text/plain": [
              "     ID      Height\n",
              "0  1000  187.849361\n",
              "1  1004  171.398172\n",
              "2  1008  172.183314\n",
              "3  1011  142.268503\n",
              "4  1016  174.386182"
            ]
          },
          "metadata": {
            "tags": []
          },
          "execution_count": 2
        }
      ]
    },
    {
      "cell_type": "markdown",
      "metadata": {
        "id": "avDo-OfGJqgI"
      },
      "source": [
        "Perform some basic EDA\n",
        "* Descriptive Statistics\n",
        "* Visualisations"
      ]
    },
    {
      "cell_type": "code",
      "metadata": {
        "colab": {
          "base_uri": "https://localhost:8080/"
        },
        "id": "eCNOfRDvKCys",
        "outputId": "98fb4684-7659-4f07-b886-d0b98f1ea15d"
      },
      "source": [
        "print('Sample Mean: ', df['Height'].mean())\n",
        "print('Sample Std: ', df['Height'].std())"
      ],
      "execution_count": null,
      "outputs": [
        {
          "output_type": "stream",
          "text": [
            "Sample Mean:  165.2708312773001\n",
            "Sample Std:  9.748050193802774\n"
          ],
          "name": "stdout"
        }
      ]
    },
    {
      "cell_type": "code",
      "metadata": {
        "colab": {
          "base_uri": "https://localhost:8080/",
          "height": 282
        },
        "id": "ADOhHChhJdrI",
        "outputId": "19f1d81f-6db0-414b-d7c5-6e1d90448395"
      },
      "source": [
        "df['Height'].hist(bins=20)"
      ],
      "execution_count": null,
      "outputs": [
        {
          "output_type": "execute_result",
          "data": {
            "text/plain": [
              "<matplotlib.axes._subplots.AxesSubplot at 0x7fc446eb3208>"
            ]
          },
          "metadata": {
            "tags": []
          },
          "execution_count": 4
        },
        {
          "output_type": "display_data",
          "data": {
            "image/png": "[encoded data removed]",
            "text/plain": [
              "<Figure size 432x288 with 1 Axes>"
            ]
          },
          "metadata": {
            "tags": [],
            "needs_background": "light"
          }
        }
      ]
    },
    {
      "cell_type": "markdown",
      "metadata": {
        "id": "mbMPN5RnK5s8"
      },
      "source": [
        "We can see our data looks normally ditributed - this is important as the distribution determines the statistical test we will use.\n",
        "\n",
        "We can run a Shapiro-Wilk test to determine the probabiity our sample is normally distributed.\n",
        "\n",
        "The p-value is the probability of the sample being normally distributed, as long as this is greater than our level of significance, we can assume our sample is normally distributed.  "
      ]
    },
    {
      "cell_type": "code",
      "metadata": {
        "colab": {
          "base_uri": "https://localhost:8080/"
        },
        "id": "nTbfy922JkpY",
        "outputId": "737cfbfc-0c13-42f1-886c-8300f206e107"
      },
      "source": [
        "from scipy.stats import shapiro\n",
        "\n",
        "sl = 0.05 # significance level = (1 - required confidence level)\n",
        "\n",
        "stat, p = shapiro(df['Height'])\n",
        "print('stat=%.3f, p=%.3f' % (stat, p))\n",
        "if p > sl:\n",
        "\tprint('The sample is p=%.3f normally distributed' % (p))\n",
        "else:\n",
        "\tprint('Probably not not normally distributed')"
      ],
      "execution_count": null,
      "outputs": [
        {
          "output_type": "stream",
          "text": [
            "stat=0.999, p=0.852\n",
            "The sample is p=0.852 normally distributed\n"
          ],
          "name": "stdout"
        }
      ]
    },
    {
      "cell_type": "markdown",
      "metadata": {
        "id": "WSJ5kJPjOUp6"
      },
      "source": [
        "We can now declare a null and alternative hypothesis.  \n",
        "\n",
        "Suppose we want to test our estimate that true population average height is 165cm\n",
        "\n",
        "* Null: Average Height of population is NOT different from 165cm\n",
        "* Alt: Average Height of population is different from 165cm\n",
        "\n",
        "The question is, do we have enough evidence to REJECT the null hypothesis?\n",
        "\n",
        "That depends on how much data we have, how spread out that data is, how far the mean of our sample is away from 165cm and how confident we want to be that true population mean falls within our sample.  \n",
        "\n",
        "We work out the z-score = (Mean of Sample - Hypothesized Mean) / Std Error\n",
        "\n",
        "Std Error = Sample Std Dev / Sqrt(number of observations)\n",
        "\n",
        "Once we have the z-Score we can calculate the p-Value.\n",
        "\n",
        "The p-Value is the probability the observation we see in our data (Mean = 164.86) came about as a result of random chance.  So if this is less than our level of significance (say 0.05 or 5%), we can be 95% sure the real, true population mean is represented by our sample.  \n",
        "\n",
        "We say our sample mean is statistically significant if p-value < level of significance.\n",
        "\n",
        "Confidence Interval\t - Level of Significance\t- Critical Z-Score\n",
        "* 75%\t- 25% -\t1.15\n",
        "* 90%\t- 10% -\t1.64\n",
        "* 95%\t- 5% - 1.96\n",
        "* 99%\t- 1% -\t2.57\n"
      ]
    },
    {
      "cell_type": "code",
      "metadata": {
        "colab": {
          "base_uri": "https://localhost:8080/"
        },
        "id": "SRsn-wksMiEm",
        "outputId": "e9ab6c4f-8320-40c9-bffb-df1fc9aa51d4"
      },
      "source": [
        "# Hypothesis Test One\n",
        "\n",
        "hypothesized_mean = 165\n",
        "n = 1000   # number of samples\n",
        "sl = 0.05\n",
        "\n",
        "sample_mean = df['Height'].mean()\n",
        "sample_std = df['Height'].std()\n",
        "SE = sample_std/np.sqrt(n)\n",
        "Z_Score = (sample_mean - hypothesized_mean) / SE\n",
        "critical_z = st.norm.ppf(1-sl/2)\n",
        "ci = st.norm.cdf(critical_z)\n",
        "p_value = scipy.stats.norm.sf(abs(Z_Score))*2\n",
        "\n",
        "print('Standard Error:', SE)\n",
        "print('Z-Score:', Z_Score)\n",
        "print('Critical Z:', critical_z)\n",
        "print('Confidence Interval:', 1-sl)\n",
        "print('p-value:', p_value)\n",
        "print()\n",
        "if p_value > sl:\n",
        "  print('Not enough evidence to reject null')\n",
        "else:\n",
        "  print('Reject the null')\n",
        "  print('The true population estimate is significantly different from', sample_mean, 'at the', 1-sl, 'level' )\n",
        "print()\n",
        "print('68% confidence interval:', sample_mean - (1.0 * SE), \" - \", sample_mean + (1.0 * SE))\n",
        "print('75% confidence interval:', sample_mean - (1.15 * SE), \" - \", sample_mean + (1.15 * SE))\n",
        "print('95% confidence interval:', sample_mean - (1.96 * SE), \" - \", sample_mean + (1.96 * SE))\n",
        "print('99% confidence interval:', sample_mean - (2.57 * SE), \" - \", sample_mean + (2.57 * SE))"
      ],
      "execution_count": null,
      "outputs": [
        {
          "output_type": "stream",
          "text": [
            "Standard Error: 0.30826041358062556\n",
            "Z-Score: 0.8785794911329211\n",
            "Critical Z: 1.959963984540054\n",
            "Confidence Interval: 0.95\n",
            "p-value: 0.3796293198165177\n",
            "\n",
            "Not enough evidence to reject null\n",
            "\n",
            "68% confidence interval: 164.96257086371946  -  165.57909169088072\n",
            "75% confidence interval: 164.91633180168236  -  165.62533075291782\n",
            "95% confidence interval: 164.66664086668206  -  165.87502168791812\n",
            "99% confidence interval: 164.4786020143979  -  166.0630605402023\n"
          ],
          "name": "stdout"
        }
      ]
    },
    {
      "cell_type": "markdown",
      "metadata": {
        "id": "oLw97N9yyZiH"
      },
      "source": [
        "In other words, the data supports the hypothesis that the population mean estimate is 165cm but does not support the hypothesis that the population mean estimate is 166cm.  \n",
        "\n",
        "If your population estimate falls within the confidence interval, your sample provides enough evidence it is statitistically representative of the true population estimate.  \n",
        "\n",
        "Change the number of sample sizes and change the significance level - sl to 0.1\n",
        "\n",
        "Notice what happens when the p_value < sl !  Your hypothesized mean falls outside of the bounds of the confidence interval - and your sample is no longer representative - you don't have enough evidence!"
      ]
    },
    {
      "cell_type": "code",
      "metadata": {
        "colab": {
          "base_uri": "https://localhost:8080/"
        },
        "id": "4-b4nRPpfgqM",
        "outputId": "f6feece1-3e64-4791-f07d-383e257d4962"
      },
      "source": [
        "# Hypothesis Test Two\n",
        "\n",
        "hypothesized_mean = 167\n",
        "n = 200   # number of samples\n",
        "sl = 0.05\n",
        "\n",
        "sample_mean = df['Height'].mean()\n",
        "sample_std = df['Height'].std()\n",
        "SE = sample_std/np.sqrt(n)\n",
        "Z_Score = (sample_mean - hypothesized_mean) / SE\n",
        "critical_z = st.norm.ppf(1-sl/2)\n",
        "ci = st.norm.cdf(critical_z)\n",
        "p_value = scipy.stats.norm.sf(abs(Z_Score))*2\n",
        "\n",
        "print('Standard Error:', SE)\n",
        "print('Z-Score:', Z_Score)\n",
        "print('Critical Z:', critical_z)\n",
        "print('Confidence Interval:', 1-sl)\n",
        "print('p-value:', p_value)\n",
        "print()\n",
        "if p_value > sl:\n",
        "  print('Not enough evidence to reject null')\n",
        "else:\n",
        "  print('Reject the null')\n",
        "  print('The true population estimate is significantly different from', sample_mean, 'at the', (1-sl), 'level' )\n",
        "print()\n",
        "print('68% confidence interval:', sample_mean - (1.0 * SE), \" - \", sample_mean + (1.0 * SE))\n",
        "print('75% confidence interval:', sample_mean - (1.15 * SE), \" - \", sample_mean + (1.15 * SE))\n",
        "print('95% confidence interval:', sample_mean - (1.96 * SE), \" - \", sample_mean + (1.96 * SE))\n",
        "print('99% confidence interval:', sample_mean - (2.57 * SE), \" - \", sample_mean + (2.57 * SE))"
      ],
      "execution_count": null,
      "outputs": [
        {
          "output_type": "stream",
          "text": [
            "Standard Error: 0.689291239538478\n",
            "Z-Score: -2.5086184525683115\n",
            "Critical Z: 1.959963984540054\n",
            "Confidence Interval: 0.95\n",
            "p-value: 0.012120432333273009\n",
            "\n",
            "Reject the null\n",
            "The true population estimate is significantly different from 165.2708312773001 at the 0.95 level\n",
            "\n",
            "68% confidence interval: 164.5815400377616  -  165.96012251683857\n",
            "75% confidence interval: 164.47814635183084  -  166.06351620276934\n",
            "95% confidence interval: 163.91982044780468  -  166.6218421067955\n",
            "99% confidence interval: 163.4993527916862  -  167.042309762914\n"
          ],
          "name": "stdout"
        }
      ]
    },
    {
      "cell_type": "markdown",
      "metadata": {
        "id": "KFrM31Xz6pwk"
      },
      "source": [
        "### Bootstrap Resample Hypothesis Test\n",
        "\n",
        "The following code is an example of a resampling exercise using a popular technique called bootstrap resampling.   This is code is optional for the week's topic but useful to know for later modelling techniques.  "
      ]
    },
    {
      "cell_type": "code",
      "metadata": {
        "id": "5L5dIEKkgFF9",
        "colab": {
          "base_uri": "https://localhost:8080/"
        },
        "outputId": "dda2c08c-6e88-4f4f-a9e8-960f65a647c7"
      },
      "source": [
        "data = df['Height']\n",
        "data = np.array(data)\n",
        "print('Population Mean:', data.mean())\n",
        "print('Population Std Dev:', data.std())"
      ],
      "execution_count": null,
      "outputs": [
        {
          "output_type": "stream",
          "text": [
            "Population Mean: 165.2708312773\n",
            "Population Std Dev: 9.743174949589962\n"
          ],
          "name": "stdout"
        }
      ]
    },
    {
      "cell_type": "markdown",
      "metadata": {
        "id": "5Or7i_Rs7pt9"
      },
      "source": [
        "We can now resample our data - selecting n random samples of 30 observations each from our original dataset of 1000 observations, we will then use those to create a sampling distribution.  "
      ]
    },
    {
      "cell_type": "code",
      "metadata": {
        "colab": {
          "base_uri": "https://localhost:8080/"
        },
        "id": "P6X5t23l7JxR",
        "outputId": "fcdd6a26-eead-4623-efad-ecd739a9aa4e"
      },
      "source": [
        "n = 100000\n",
        "\n",
        "sample_means = []\n",
        "\n",
        "for i in range(n):\n",
        "  sample = np.random.choice(data, size=30)\n",
        "  sample_means.append(sample.mean()) \n",
        "\n",
        "sample_means = np.array(sample_means)\n",
        "print('Sampling Dist. Mean:', sample_means.mean())\n",
        "print('Sampling Dist. Std Dev:', sample_means.std())"
      ],
      "execution_count": null,
      "outputs": [
        {
          "output_type": "stream",
          "text": [
            "Sampling Dist. Mean: 165.26837248362918\n",
            "Sampling Dist. Std Dev: 1.7733386076417104\n"
          ],
          "name": "stdout"
        }
      ]
    },
    {
      "cell_type": "code",
      "metadata": {
        "colab": {
          "base_uri": "https://localhost:8080/"
        },
        "id": "XJf-C2a-8M8G",
        "outputId": "78304789-d1f8-4953-afbc-4b25847bbc45"
      },
      "source": [
        "hypothesized_mean = 169\n",
        "\n",
        "counts = np.count_nonzero(sample_means > hypothesized_mean) \n",
        "p_value = counts / len(sample_means)\n",
        "\n",
        "print('There are', len(sample_means), 'random samples in the sampling distribution')\n",
        "print('There are', counts, 'instances where the random sample mean is greater than our hypothesized mean of', hypothesized_mean )\n",
        "print('The p_value of', p_value, 'is the probability that true population average height is not different from', hypothesized_mean)\n"
      ],
      "execution_count": null,
      "outputs": [
        {
          "output_type": "stream",
          "text": [
            "There are 100000 random samples in the sampling distribution\n",
            "There are 1807 instances where the random sample mean is greater than our hypothesized mean of 169\n",
            "The p_value of 0.01807 is the probability that true population average height is not different from 169\n"
          ],
          "name": "stdout"
        }
      ]
    },
    {
      "cell_type": "markdown",
      "metadata": {
        "id": "9ew9-SVGAeiH"
      },
      "source": [
        "Try changing the number of random samples selected - n - in the cell above and notice what happens to the histogram and the sampling distribution mean.  \n",
        "\n",
        "Then change the hypothesized mean and notice how the probability of the hypothesized mean occuring based on the evidence."
      ]
    },
    {
      "cell_type": "code",
      "metadata": {
        "colab": {
          "base_uri": "https://localhost:8080/",
          "height": 281
        },
        "id": "Zexb2cCa_YUY",
        "outputId": "c50ee88e-e4dc-4a2d-f642-2a79337767fe"
      },
      "source": [
        "plt.hist(sample_means, bins=20)\n",
        "plt.title('Sampling Distribution')\n",
        "plt.axvline(hypothesized_mean, color='red', linestyle='dashed', linewidth=2);"
      ],
      "execution_count": null,
      "outputs": [
        {
          "output_type": "display_data",
          "data": {
            "image/png": "[encoded data removed]",
            "text/plain": [
              "<Figure size 432x288 with 1 Axes>"
            ]
          },
          "metadata": {
            "tags": [],
            "needs_background": "light"
          }
        }
      ]
    },
    {
      "cell_type": "code",
      "metadata": {
        "id": "5KvjiiELFEdk"
      },
      "source": [],
      "execution_count": null,
      "outputs": []
    }
  ]
}